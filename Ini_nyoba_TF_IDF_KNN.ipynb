{
  "nbformat": 4,
  "nbformat_minor": 0,
  "metadata": {
    "colab": {
      "provenance": [],
      "mount_file_id": "1ESJAKWd7uZ5pCqQ1xniq7-M2VoLkbWEX",
      "authorship_tag": "ABX9TyMMkxVinh6ENDnm6VYWLy2P",
      "include_colab_link": true
    },
    "kernelspec": {
      "name": "python3",
      "display_name": "Python 3"
    },
    "language_info": {
      "name": "python"
    }
  },
  "cells": [
    {
      "cell_type": "markdown",
      "metadata": {
        "id": "view-in-github",
        "colab_type": "text"
      },
      "source": [
        "<a href=\"https://colab.research.google.com/github/fitrianrr/magang/blob/main/Ini_nyoba_TF_IDF_KNN.ipynb\" target=\"_parent\"><img src=\"https://colab.research.google.com/assets/colab-badge.svg\" alt=\"Open In Colab\"/></a>"
      ]
    },
    {
      "cell_type": "code",
      "execution_count": 1,
      "metadata": {
        "id": "gQ7GWdrvSg1z"
      },
      "outputs": [],
      "source": [
        "import pandas as pd"
      ]
    },
    {
      "cell_type": "code",
      "source": [
        "import warnings\n",
        "warnings.filterwarnings(\"ignore\")"
      ],
      "metadata": {
        "id": "dLdLAs8mSqM8"
      },
      "execution_count": 2,
      "outputs": []
    },
    {
      "cell_type": "code",
      "source": [
        "from google.colab import drive\n",
        "drive.mount('/content/drive')"
      ],
      "metadata": {
        "colab": {
          "base_uri": "https://localhost:8080/"
        },
        "id": "596egp-OSsM8",
        "outputId": "1c9f6fe6-0e2f-4544-a5cf-5b43c205565b"
      },
      "execution_count": 3,
      "outputs": [
        {
          "output_type": "stream",
          "name": "stdout",
          "text": [
            "Drive already mounted at /content/drive; to attempt to forcibly remount, call drive.mount(\"/content/drive\", force_remount=True).\n"
          ]
        }
      ]
    },
    {
      "cell_type": "code",
      "source": [
        "path = \"/content/drive/MyDrive/Magang DLA Fitria Nur Rahmadani /code-dataset.xlsx\"\n",
        "data = pd.read_excel(path)\n",
        "data.head()"
      ],
      "metadata": {
        "colab": {
          "base_uri": "https://localhost:8080/",
          "height": 206
        },
        "id": "UrY62_qqSue1",
        "outputId": "352b626c-de58-4072-e870-045210ba90f3"
      },
      "execution_count": 4,
      "outputs": [
        {
          "output_type": "execute_result",
          "data": {
            "text/plain": [
              "                                             subject kodefikasi\n",
              "0           Build Platform Otomasi Testing Respon AI     DLA-F2\n",
              "1                           ML Playground - Prediksi     DLA-F2\n",
              "2  Tambahan Penetapan Mahasiswa Gel 1 2024 11 Jan...     DLA-F1\n",
              "3  Tambahan Plotting Penetapan Mahasiswa PPG Praj...     DLA-F1\n",
              "4  Proses Migrasi Data email Belajar.id Mahasiswa...     DLA-F7"
            ],
            "text/html": [
              "\n",
              "  <div id=\"df-a4ed58ee-31d2-4392-8403-82a7fcafa8fc\" class=\"colab-df-container\">\n",
              "    <div>\n",
              "<style scoped>\n",
              "    .dataframe tbody tr th:only-of-type {\n",
              "        vertical-align: middle;\n",
              "    }\n",
              "\n",
              "    .dataframe tbody tr th {\n",
              "        vertical-align: top;\n",
              "    }\n",
              "\n",
              "    .dataframe thead th {\n",
              "        text-align: right;\n",
              "    }\n",
              "</style>\n",
              "<table border=\"1\" class=\"dataframe\">\n",
              "  <thead>\n",
              "    <tr style=\"text-align: right;\">\n",
              "      <th></th>\n",
              "      <th>subject</th>\n",
              "      <th>kodefikasi</th>\n",
              "    </tr>\n",
              "  </thead>\n",
              "  <tbody>\n",
              "    <tr>\n",
              "      <th>0</th>\n",
              "      <td>Build Platform Otomasi Testing Respon AI</td>\n",
              "      <td>DLA-F2</td>\n",
              "    </tr>\n",
              "    <tr>\n",
              "      <th>1</th>\n",
              "      <td>ML Playground - Prediksi</td>\n",
              "      <td>DLA-F2</td>\n",
              "    </tr>\n",
              "    <tr>\n",
              "      <th>2</th>\n",
              "      <td>Tambahan Penetapan Mahasiswa Gel 1 2024 11 Jan...</td>\n",
              "      <td>DLA-F1</td>\n",
              "    </tr>\n",
              "    <tr>\n",
              "      <th>3</th>\n",
              "      <td>Tambahan Plotting Penetapan Mahasiswa PPG Praj...</td>\n",
              "      <td>DLA-F1</td>\n",
              "    </tr>\n",
              "    <tr>\n",
              "      <th>4</th>\n",
              "      <td>Proses Migrasi Data email Belajar.id Mahasiswa...</td>\n",
              "      <td>DLA-F7</td>\n",
              "    </tr>\n",
              "  </tbody>\n",
              "</table>\n",
              "</div>\n",
              "    <div class=\"colab-df-buttons\">\n",
              "\n",
              "  <div class=\"colab-df-container\">\n",
              "    <button class=\"colab-df-convert\" onclick=\"convertToInteractive('df-a4ed58ee-31d2-4392-8403-82a7fcafa8fc')\"\n",
              "            title=\"Convert this dataframe to an interactive table.\"\n",
              "            style=\"display:none;\">\n",
              "\n",
              "  <svg xmlns=\"http://www.w3.org/2000/svg\" height=\"24px\" viewBox=\"0 -960 960 960\">\n",
              "    <path d=\"M120-120v-720h720v720H120Zm60-500h600v-160H180v160Zm220 220h160v-160H400v160Zm0 220h160v-160H400v160ZM180-400h160v-160H180v160Zm440 0h160v-160H620v160ZM180-180h160v-160H180v160Zm440 0h160v-160H620v160Z\"/>\n",
              "  </svg>\n",
              "    </button>\n",
              "\n",
              "  <style>\n",
              "    .colab-df-container {\n",
              "      display:flex;\n",
              "      gap: 12px;\n",
              "    }\n",
              "\n",
              "    .colab-df-convert {\n",
              "      background-color: #E8F0FE;\n",
              "      border: none;\n",
              "      border-radius: 50%;\n",
              "      cursor: pointer;\n",
              "      display: none;\n",
              "      fill: #1967D2;\n",
              "      height: 32px;\n",
              "      padding: 0 0 0 0;\n",
              "      width: 32px;\n",
              "    }\n",
              "\n",
              "    .colab-df-convert:hover {\n",
              "      background-color: #E2EBFA;\n",
              "      box-shadow: 0px 1px 2px rgba(60, 64, 67, 0.3), 0px 1px 3px 1px rgba(60, 64, 67, 0.15);\n",
              "      fill: #174EA6;\n",
              "    }\n",
              "\n",
              "    .colab-df-buttons div {\n",
              "      margin-bottom: 4px;\n",
              "    }\n",
              "\n",
              "    [theme=dark] .colab-df-convert {\n",
              "      background-color: #3B4455;\n",
              "      fill: #D2E3FC;\n",
              "    }\n",
              "\n",
              "    [theme=dark] .colab-df-convert:hover {\n",
              "      background-color: #434B5C;\n",
              "      box-shadow: 0px 1px 3px 1px rgba(0, 0, 0, 0.15);\n",
              "      filter: drop-shadow(0px 1px 2px rgba(0, 0, 0, 0.3));\n",
              "      fill: #FFFFFF;\n",
              "    }\n",
              "  </style>\n",
              "\n",
              "    <script>\n",
              "      const buttonEl =\n",
              "        document.querySelector('#df-a4ed58ee-31d2-4392-8403-82a7fcafa8fc button.colab-df-convert');\n",
              "      buttonEl.style.display =\n",
              "        google.colab.kernel.accessAllowed ? 'block' : 'none';\n",
              "\n",
              "      async function convertToInteractive(key) {\n",
              "        const element = document.querySelector('#df-a4ed58ee-31d2-4392-8403-82a7fcafa8fc');\n",
              "        const dataTable =\n",
              "          await google.colab.kernel.invokeFunction('convertToInteractive',\n",
              "                                                    [key], {});\n",
              "        if (!dataTable) return;\n",
              "\n",
              "        const docLinkHtml = 'Like what you see? Visit the ' +\n",
              "          '<a target=\"_blank\" href=https://colab.research.google.com/notebooks/data_table.ipynb>data table notebook</a>'\n",
              "          + ' to learn more about interactive tables.';\n",
              "        element.innerHTML = '';\n",
              "        dataTable['output_type'] = 'display_data';\n",
              "        await google.colab.output.renderOutput(dataTable, element);\n",
              "        const docLink = document.createElement('div');\n",
              "        docLink.innerHTML = docLinkHtml;\n",
              "        element.appendChild(docLink);\n",
              "      }\n",
              "    </script>\n",
              "  </div>\n",
              "\n",
              "\n",
              "<div id=\"df-41866a60-7548-43b3-8404-db8c565fed81\">\n",
              "  <button class=\"colab-df-quickchart\" onclick=\"quickchart('df-41866a60-7548-43b3-8404-db8c565fed81')\"\n",
              "            title=\"Suggest charts\"\n",
              "            style=\"display:none;\">\n",
              "\n",
              "<svg xmlns=\"http://www.w3.org/2000/svg\" height=\"24px\"viewBox=\"0 0 24 24\"\n",
              "     width=\"24px\">\n",
              "    <g>\n",
              "        <path d=\"M19 3H5c-1.1 0-2 .9-2 2v14c0 1.1.9 2 2 2h14c1.1 0 2-.9 2-2V5c0-1.1-.9-2-2-2zM9 17H7v-7h2v7zm4 0h-2V7h2v10zm4 0h-2v-4h2v4z\"/>\n",
              "    </g>\n",
              "</svg>\n",
              "  </button>\n",
              "\n",
              "<style>\n",
              "  .colab-df-quickchart {\n",
              "      --bg-color: #E8F0FE;\n",
              "      --fill-color: #1967D2;\n",
              "      --hover-bg-color: #E2EBFA;\n",
              "      --hover-fill-color: #174EA6;\n",
              "      --disabled-fill-color: #AAA;\n",
              "      --disabled-bg-color: #DDD;\n",
              "  }\n",
              "\n",
              "  [theme=dark] .colab-df-quickchart {\n",
              "      --bg-color: #3B4455;\n",
              "      --fill-color: #D2E3FC;\n",
              "      --hover-bg-color: #434B5C;\n",
              "      --hover-fill-color: #FFFFFF;\n",
              "      --disabled-bg-color: #3B4455;\n",
              "      --disabled-fill-color: #666;\n",
              "  }\n",
              "\n",
              "  .colab-df-quickchart {\n",
              "    background-color: var(--bg-color);\n",
              "    border: none;\n",
              "    border-radius: 50%;\n",
              "    cursor: pointer;\n",
              "    display: none;\n",
              "    fill: var(--fill-color);\n",
              "    height: 32px;\n",
              "    padding: 0;\n",
              "    width: 32px;\n",
              "  }\n",
              "\n",
              "  .colab-df-quickchart:hover {\n",
              "    background-color: var(--hover-bg-color);\n",
              "    box-shadow: 0 1px 2px rgba(60, 64, 67, 0.3), 0 1px 3px 1px rgba(60, 64, 67, 0.15);\n",
              "    fill: var(--button-hover-fill-color);\n",
              "  }\n",
              "\n",
              "  .colab-df-quickchart-complete:disabled,\n",
              "  .colab-df-quickchart-complete:disabled:hover {\n",
              "    background-color: var(--disabled-bg-color);\n",
              "    fill: var(--disabled-fill-color);\n",
              "    box-shadow: none;\n",
              "  }\n",
              "\n",
              "  .colab-df-spinner {\n",
              "    border: 2px solid var(--fill-color);\n",
              "    border-color: transparent;\n",
              "    border-bottom-color: var(--fill-color);\n",
              "    animation:\n",
              "      spin 1s steps(1) infinite;\n",
              "  }\n",
              "\n",
              "  @keyframes spin {\n",
              "    0% {\n",
              "      border-color: transparent;\n",
              "      border-bottom-color: var(--fill-color);\n",
              "      border-left-color: var(--fill-color);\n",
              "    }\n",
              "    20% {\n",
              "      border-color: transparent;\n",
              "      border-left-color: var(--fill-color);\n",
              "      border-top-color: var(--fill-color);\n",
              "    }\n",
              "    30% {\n",
              "      border-color: transparent;\n",
              "      border-left-color: var(--fill-color);\n",
              "      border-top-color: var(--fill-color);\n",
              "      border-right-color: var(--fill-color);\n",
              "    }\n",
              "    40% {\n",
              "      border-color: transparent;\n",
              "      border-right-color: var(--fill-color);\n",
              "      border-top-color: var(--fill-color);\n",
              "    }\n",
              "    60% {\n",
              "      border-color: transparent;\n",
              "      border-right-color: var(--fill-color);\n",
              "    }\n",
              "    80% {\n",
              "      border-color: transparent;\n",
              "      border-right-color: var(--fill-color);\n",
              "      border-bottom-color: var(--fill-color);\n",
              "    }\n",
              "    90% {\n",
              "      border-color: transparent;\n",
              "      border-bottom-color: var(--fill-color);\n",
              "    }\n",
              "  }\n",
              "</style>\n",
              "\n",
              "  <script>\n",
              "    async function quickchart(key) {\n",
              "      const quickchartButtonEl =\n",
              "        document.querySelector('#' + key + ' button');\n",
              "      quickchartButtonEl.disabled = true;  // To prevent multiple clicks.\n",
              "      quickchartButtonEl.classList.add('colab-df-spinner');\n",
              "      try {\n",
              "        const charts = await google.colab.kernel.invokeFunction(\n",
              "            'suggestCharts', [key], {});\n",
              "      } catch (error) {\n",
              "        console.error('Error during call to suggestCharts:', error);\n",
              "      }\n",
              "      quickchartButtonEl.classList.remove('colab-df-spinner');\n",
              "      quickchartButtonEl.classList.add('colab-df-quickchart-complete');\n",
              "    }\n",
              "    (() => {\n",
              "      let quickchartButtonEl =\n",
              "        document.querySelector('#df-41866a60-7548-43b3-8404-db8c565fed81 button');\n",
              "      quickchartButtonEl.style.display =\n",
              "        google.colab.kernel.accessAllowed ? 'block' : 'none';\n",
              "    })();\n",
              "  </script>\n",
              "</div>\n",
              "\n",
              "    </div>\n",
              "  </div>\n"
            ],
            "application/vnd.google.colaboratory.intrinsic+json": {
              "type": "dataframe",
              "variable_name": "data",
              "summary": "{\n  \"name\": \"data\",\n  \"rows\": 445,\n  \"fields\": [\n    {\n      \"column\": \"subject\",\n      \"properties\": {\n        \"dtype\": \"string\",\n        \"num_unique_values\": 415,\n        \"samples\": [\n          \"Setup DAG BI PJOK\",\n          \"Penyesuaian Status Lengkap Jurusan BI Pendaftaran PPG Prajab\",\n          \"Pengembangan BI DIklat Pembekalan - Resume Peserta dari SIM\"\n        ],\n        \"semantic_type\": \"\",\n        \"description\": \"\"\n      }\n    },\n    {\n      \"column\": \"kodefikasi\",\n      \"properties\": {\n        \"dtype\": \"category\",\n        \"num_unique_values\": 8,\n        \"samples\": [\n          \"DLA-F1\",\n          \"DLA-F5\",\n          \"DLA-F2\"\n        ],\n        \"semantic_type\": \"\",\n        \"description\": \"\"\n      }\n    }\n  ]\n}"
            }
          },
          "metadata": {},
          "execution_count": 4
        }
      ]
    },
    {
      "cell_type": "code",
      "source": [
        "df = data.dropna().reset_index(drop=True)\n",
        "df.info()"
      ],
      "metadata": {
        "colab": {
          "base_uri": "https://localhost:8080/"
        },
        "id": "l5YINpD2S36S",
        "outputId": "b6adb24b-5f3f-4903-8d0f-f88c3c51f71e"
      },
      "execution_count": 5,
      "outputs": [
        {
          "output_type": "stream",
          "name": "stdout",
          "text": [
            "<class 'pandas.core.frame.DataFrame'>\n",
            "RangeIndex: 370 entries, 0 to 369\n",
            "Data columns (total 2 columns):\n",
            " #   Column      Non-Null Count  Dtype \n",
            "---  ------      --------------  ----- \n",
            " 0   subject     370 non-null    object\n",
            " 1   kodefikasi  370 non-null    object\n",
            "dtypes: object(2)\n",
            "memory usage: 5.9+ KB\n"
          ]
        }
      ]
    },
    {
      "cell_type": "code",
      "source": [
        "import re\n",
        "import string\n",
        "from nltk.tokenize import word_tokenize\n",
        "from nltk.corpus import stopwords\n",
        "import nltk\n",
        "nltk.download('stopwords')\n",
        "nltk.download('punkt')\n",
        "\n",
        "\n",
        "# Fungsi utama untuk membersihkan teks\n",
        "def clean_text(text):\n",
        "    text = text.lower() # Ubah menjadi huruf non kapital semua\n",
        "    text = re.sub(r\"\\\\t|\\\\n|\\\\u|\\\\\", \" \", text)  # Hapus tab, newline, dan backslash\n",
        "    text = text.encode('ascii', 'replace').decode('ascii')  # Hapus karakter non-ASCII\n",
        "    text = re.sub(r\"([@#][A-Za-z0-9]+)|(\\w+:\\/\\/\\S+)\", \" \", text)  # Hapus mention, hashtag, dan link\n",
        "    text = text.replace(\"http://\", \" \").replace(\"https://\", \" \")  # Hapus URL yang tidak lengkap\n",
        "    text = re.sub(r\"\\d+\", \"\", text)  # Hapus angka\n",
        "    text = text.translate(str.maketrans(\"\", \"\", string.punctuation))  # Hapus tanda baca\n",
        "    text = re.sub(r\"\\b[a-zA-Z]\\b\", \"\", text)  # Hapus karakter tunggal\n",
        "    text = re.sub(r\"\\s+\", \" \", text).strip()  # Hapus spasi ganda dan spasi di awal/akhir\n",
        "\n",
        "    return text\n",
        "\n",
        "# TMenerapkan fungsi tersebut pada kolom 'subject' beserta tokenisasi\n",
        "df['cleaned_text'] = df['subject'].apply(lambda x: word_tokenize(clean_text(x)))"
      ],
      "metadata": {
        "colab": {
          "base_uri": "https://localhost:8080/"
        },
        "id": "Z26CjbgpS7WU",
        "outputId": "d1834369-7f2f-40e7-f324-991e60350112"
      },
      "execution_count": 6,
      "outputs": [
        {
          "output_type": "stream",
          "name": "stderr",
          "text": [
            "[nltk_data] Downloading package stopwords to /root/nltk_data...\n",
            "[nltk_data]   Package stopwords is already up-to-date!\n",
            "[nltk_data] Downloading package punkt to /root/nltk_data...\n",
            "[nltk_data]   Package punkt is already up-to-date!\n"
          ]
        }
      ]
    },
    {
      "cell_type": "code",
      "source": [
        "pip install Sastrawi"
      ],
      "metadata": {
        "colab": {
          "base_uri": "https://localhost:8080/"
        },
        "id": "eKbJUXNlS99H",
        "outputId": "704c234d-dee2-46f8-ee3e-35b97b248f05"
      },
      "execution_count": 7,
      "outputs": [
        {
          "output_type": "stream",
          "name": "stdout",
          "text": [
            "Requirement already satisfied: Sastrawi in /usr/local/lib/python3.10/dist-packages (1.0.1)\n"
          ]
        }
      ]
    },
    {
      "cell_type": "code",
      "source": [
        "from Sastrawi.Stemmer.StemmerFactory import StemmerFactory\n",
        "\n",
        "# Mengembalikan tiap kata ke kata dasarnya\n",
        "factory = StemmerFactory()\n",
        "stemmer = factory.create_stemmer()\n",
        "\n",
        "# Menerapkan fungsi tersebut pada kolom 'cleaned_text'\n",
        "df['cleaned_text'] = df['cleaned_text'].apply(lambda x: [stemmer.stem(word) for word in x])"
      ],
      "metadata": {
        "id": "_JTafH8hTBHZ"
      },
      "execution_count": 8,
      "outputs": []
    },
    {
      "cell_type": "code",
      "source": [
        "# Fungsi untuk menghapus stopwords\n",
        "def rem_stopw(text):\n",
        "    listStopword = set(stopwords.words('indonesian'))\n",
        "    return [word for word in text if word not in listStopword]"
      ],
      "metadata": {
        "id": "ijUvwm-jTMFX"
      },
      "execution_count": 9,
      "outputs": []
    },
    {
      "cell_type": "code",
      "source": [
        "# Menerapkan fungsi rem_stopw pada kolom 'cleaned_text'\n",
        "df['cleaned_text'] = df['cleaned_text'].apply(rem_stopw)"
      ],
      "metadata": {
        "id": "XjzXmDc_TVWT"
      },
      "execution_count": 10,
      "outputs": []
    },
    {
      "cell_type": "code",
      "source": [
        "from sklearn.feature_extraction.text import TfidfVectorizer\n",
        "tfidfconverter = TfidfVectorizer(max_features=8, min_df=5, max_df=0.7, stop_words=stopwords.words('indonesian'))\n",
        "X = tfidfconverter.fit_transform(df['cleaned_text'].apply(lambda x: ' '.join(x))).toarray()"
      ],
      "metadata": {
        "id": "FfrTdnfiTVvd"
      },
      "execution_count": 11,
      "outputs": []
    },
    {
      "cell_type": "code",
      "source": [
        "from sklearn.model_selection import train_test_split\n",
        "X_train, X_test, y_train, y_test = train_test_split(X, df['kodefikasi'], test_size=0.2, random_state=0)"
      ],
      "metadata": {
        "id": "UjgrxpK6UAiS"
      },
      "execution_count": 12,
      "outputs": []
    },
    {
      "cell_type": "code",
      "source": [
        "from sklearn.neighbors import KNeighborsClassifier\n",
        "classifier = KNeighborsClassifier().fit(X_train, y_train)\n",
        "y_pred = classifier.predict(X_test)\n",
        "print(y_pred)"
      ],
      "metadata": {
        "colab": {
          "base_uri": "https://localhost:8080/"
        },
        "id": "Xr8Gwh0IUNqa",
        "outputId": "4532e0b2-c9b2-4bdd-819f-36c732315a6c"
      },
      "execution_count": 13,
      "outputs": [
        {
          "output_type": "stream",
          "name": "stdout",
          "text": [
            "['DLA-F6' 'DLA-F1' 'DLA-F2' 'DLA-F7' 'DLA-F7' 'DLA-F1' 'DLA-F2' 'DLA-F7'\n",
            " 'DLA-F1' 'DLA-F1' 'DLA-F7' 'DLA-F2' 'DLA-F1' 'DLA-F6' 'DLA-F7' 'DLA-F2'\n",
            " 'DLA-F1' 'DLA-F1' 'DLA-F7' 'DLA-F7' 'DLA-F7' 'DLA-F1' 'DLA-F2' 'DLA-F1'\n",
            " 'DLA-F1' 'DLA-F1' 'DLA-F2' 'DLA-F7' 'DLA-F7' 'DLA-F1' 'DLA-F2' 'DLA-F1'\n",
            " 'DLA-F1' 'DLA-F6' 'DLA-F7' 'DLA-F7' 'DLA-F1' 'DLA-F7' 'DLA-F1' 'DLA-F2'\n",
            " 'DLA-F1' 'DLA-F2' 'DLA-F2' 'DLA-F2' 'DLA-F7' 'DLA-F2' 'DLA-F3' 'DLA-F1'\n",
            " 'DLA-F2' 'DLA-F1' 'DLA-F1' 'DLA-F2' 'DLA-F7' 'DLA-F3' 'DLA-F1' 'DLA-F2'\n",
            " 'DLA-F1' 'DLA-F7' 'DLA-F1' 'DLA-F7' 'DLA-F1' 'DLA-F1' 'DLA-F7' 'DLA-F6'\n",
            " 'DLA-F7' 'DLA-F2' 'DLA-F1' 'DLA-F2' 'DLA-F1' 'DLA-F7' 'DLA-F1' 'DLA-F1'\n",
            " 'DLA-F2' 'DLA-F2']\n"
          ]
        }
      ]
    },
    {
      "cell_type": "code",
      "source": [
        "from sklearn.metrics import classification_report, confusion_matrix, accuracy_score\n",
        "print(confusion_matrix(y_test, y_pred))"
      ],
      "metadata": {
        "colab": {
          "base_uri": "https://localhost:8080/"
        },
        "id": "pUIlqKGNU6wP",
        "outputId": "b8772a7a-da94-4645-d981-d995cc86f8f2"
      },
      "execution_count": 14,
      "outputs": [
        {
          "output_type": "stream",
          "name": "stdout",
          "text": [
            "[[24  1  0  0  0  1  1  0]\n",
            " [ 0  5  0  0  0  0  0  0]\n",
            " [ 0  4  1  0  0  0  0  0]\n",
            " [ 0  1  0  0  0  0  0  0]\n",
            " [ 0  3  1  0  0  1  0  0]\n",
            " [ 1  0  0  0  0  2  0  0]\n",
            " [ 2  2  0  0  0  0 19  0]\n",
            " [ 2  3  0  0  0  0  0  0]]\n"
          ]
        }
      ]
    },
    {
      "cell_type": "code",
      "source": [
        "print(classification_report(y_test, y_pred))"
      ],
      "metadata": {
        "colab": {
          "base_uri": "https://localhost:8080/"
        },
        "id": "XAXcSV-KWTaZ",
        "outputId": "eb9accb0-f1c6-4adf-85eb-365a9bcb95d7"
      },
      "execution_count": 15,
      "outputs": [
        {
          "output_type": "stream",
          "name": "stdout",
          "text": [
            "              precision    recall  f1-score   support\n",
            "\n",
            "      DLA-F1       0.83      0.89      0.86        27\n",
            "      DLA-F2       0.26      1.00      0.42         5\n",
            "      DLA-F3       0.50      0.20      0.29         5\n",
            "      DLA-F4       0.00      0.00      0.00         1\n",
            "      DLA-F5       0.00      0.00      0.00         5\n",
            "      DLA-F6       0.50      0.67      0.57         3\n",
            "      DLA-F7       0.95      0.83      0.88        23\n",
            "      DLA-F8       0.00      0.00      0.00         5\n",
            "\n",
            "    accuracy                           0.69        74\n",
            "   macro avg       0.38      0.45      0.38        74\n",
            "weighted avg       0.67      0.69      0.66        74\n",
            "\n"
          ]
        }
      ]
    },
    {
      "cell_type": "code",
      "source": [
        "print(accuracy_score(y_test, y_pred))"
      ],
      "metadata": {
        "colab": {
          "base_uri": "https://localhost:8080/"
        },
        "id": "JMpU_8CTgyUK",
        "outputId": "c013d53b-49f2-42b0-c37f-4603e284c43d"
      },
      "execution_count": 16,
      "outputs": [
        {
          "output_type": "stream",
          "name": "stdout",
          "text": [
            "0.6891891891891891\n"
          ]
        }
      ]
    },
    {
      "cell_type": "code",
      "source": [],
      "metadata": {
        "id": "S_7C7Pa6g1HP"
      },
      "execution_count": 16,
      "outputs": []
    }
  ]
}